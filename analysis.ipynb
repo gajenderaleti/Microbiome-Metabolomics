{
 "cells": [
  {
   "cell_type": "markdown",
   "metadata": {},
   "source": [
    "# Workflow for microbiome and metabolomics analyses"
   ]
  },
  {
   "cell_type": "code",
   "execution_count": 8,
   "metadata": {
    "scrolled": false
   },
   "outputs": [],
   "source": [
    "#demultiplexing, sequence quality control and feature table construction was done using Qiita \n",
    "#Qiita Study ID 11259\n",
    "#mass spectral files are accessible from the MassIVE repository accession ID MSV000083077"
   ]
  },
  {
   "cell_type": "markdown",
   "metadata": {},
   "source": [
    "# Microbiome 16S analysis"
   ]
  },
  {
   "cell_type": "code",
   "execution_count": null,
   "metadata": {},
   "outputs": [],
   "source": [
    "#convert Greengenes reference database hit fasta sequences to qza format\n",
    "!qiime tools import \\\n",
    "    --type FeatureData[Sequence] \\\n",
    "    --input-path MicrobiomeData/reference-hit.seqs.fa \\\n",
    "    --output-path Data/reference-hit.seqs.qza"
   ]
  },
  {
   "cell_type": "code",
   "execution_count": 4,
   "metadata": {},
   "outputs": [
    {
     "name": "stdout",
     "output_type": "stream",
     "text": [
      "\u001b[32mSaved FeatureData[AlignedSequence] to: Data/aligned-rep-seqs.qza\u001b[0m\n",
      "\u001b[32mSaved FeatureData[AlignedSequence] to: Data/masked-aligned-rep-seqs.qza\u001b[0m\n",
      "\u001b[32mSaved Phylogeny[Unrooted] to: unrooted-tree.qza\u001b[0m\n",
      "\u001b[32mSaved Phylogeny[Rooted] to: rooted-tree.qza\u001b[0m\n",
      "\u001b[0m"
     ]
    }
   ],
   "source": [
    "#generate a tree for phylogenetic diversity analyses!qiime phylogeny align-to-tree-mafft-fasttree \\\n",
    "    --i-sequences Data/reference-hit.seqs.qza \\\n",
    "    --o-alignment Data/aligned-rep-seqs.qza \\\n",
    "    --o-masked-alignment Data/masked-aligned-rep-seqs.qza \\\n",
    "    --o-tree Data/unrooted-tree.qza \\\n",
    "    --o-rooted-tree Data/rooted-tree.qza"
   ]
  },
  {
   "cell_type": "code",
   "execution_count": 15,
   "metadata": {},
   "outputs": [],
   "source": [
    "#unzip qza and convert biom to text file\n",
    "!biom convert \\\n",
    "    -i Data/feature-table.biom \\\n",
    "    -o Decontamination/feature-table.txt \\\n",
    "    --to-tsv"
   ]
  },
  {
   "cell_type": "code",
   "execution_count": 20,
   "metadata": {
    "scrolled": true
   },
   "outputs": [
    {
     "name": "stdout",
     "output_type": "stream",
     "text": [
      "\u001b[32mSaved FeatureTable[Frequency] to: Data/decontam.qza\u001b[0m\n",
      "\u001b[0m\u001b[32mSaved Visualization to: Data/decontam.qzv\u001b[0m\n",
      "\u001b[0mPress the 'q' key, Control-C, or Control-D to quit. This view may no longer be accessible or work correctly after quitting.Opening in existing browser session.\n",
      "libva error: /usr/lib/x86_64-linux-gnu/dri/i965_drv_video.so init failed\n",
      "[18051:18051:0100/000000.754008:ERROR:sandbox_linux.cc(377)] InitializeSandbox() called with multiple threads in process gpu-process.\n",
      "\n",
      "Press the 'q' key, Control-C, or Control-D to quit. This view may no longer be accessible or work correctly after quitting."
     ]
    }
   ],
   "source": [
    "#perform decontamination steps in R with 'decontam' package and then remove contaminant sequences from the feature table\n",
    "!qiime feature-table filter-features \\\n",
    "    --i-table Data/table.qza \\\n",
    "    --m-metadata-file Decontamination/contaminant_features-to-filter-out.csv \\\n",
    "    --p-exclude-ids \\\n",
    "    --o-filtered-table Data/decontam.qza\n",
    "\n",
    "#feature data summary\n",
    "!qiime feature-table summarize \\\n",
    "    --i-table Data/decontam.qza \\\n",
    "    --o-visualization Data/decontam.qzv\n",
    "\n",
    "#!qiime tools view Data/decontam.qzv"
   ]
  },
  {
   "cell_type": "code",
   "execution_count": null,
   "metadata": {},
   "outputs": [],
   "source": [
    "#filter samples and features \n",
    "!qiime feature-table filter-features \\\n",
    "    --i-table Data/decontam.qza \\\n",
    "    --p-min-samples 2 \\\n",
    "    --o-filtered-table Data/decontam-sample-min2-table.qza\n",
    "\n",
    "!qiime feature-table filter-samples \\\n",
    "    --i-table decontam-sample-min2-table.qza \\\n",
    "    --p-min-features 10 \\\n",
    "    --o-filtered-table Data/decontam-sample-min2-feature10-table.qza"
   ]
  },
  {
   "cell_type": "code",
   "execution_count": 19,
   "metadata": {},
   "outputs": [
    {
     "name": "stdout",
     "output_type": "stream",
     "text": [
      "\u001b[32mSaved FeatureTable[Frequency] to: noblank-table.qza\u001b[0m\r\n"
     ]
    }
   ],
   "source": [
    "#filter blank samples\n",
    "!qiime feature-table filter-samples \\\n",
    "    --i-table Data/decontam.qza \\\n",
    "    --m-metadata-file Data/samples-to-keep.csv \\\n",
    "    --o-filtered-table Data/sample-decontam-filtered-table.qza"
   ]
  },
  {
   "cell_type": "markdown",
   "metadata": {},
   "source": [
    "### Alpha and beta diversity analysis"
   ]
  },
  {
   "cell_type": "code",
   "execution_count": 30,
   "metadata": {},
   "outputs": [
    {
     "name": "stdout",
     "output_type": "stream",
     "text": [
      "\u001b[32mSaved FeatureTable[Frequency] to: core-metrics-results/rarefied_table.qza\u001b[0m\n",
      "\u001b[32mSaved SampleData[AlphaDiversity] to: core-metrics-results/faith_pd_vector.qza\u001b[0m\n",
      "\u001b[32mSaved SampleData[AlphaDiversity] to: core-metrics-results/observed_features_vector.qza\u001b[0m\n",
      "\u001b[32mSaved SampleData[AlphaDiversity] to: core-metrics-results/shannon_vector.qza\u001b[0m\n",
      "\u001b[32mSaved SampleData[AlphaDiversity] to: core-metrics-results/evenness_vector.qza\u001b[0m\n",
      "\u001b[32mSaved DistanceMatrix to: core-metrics-results/unweighted_unifrac_distance_matrix.qza\u001b[0m\n",
      "\u001b[32mSaved DistanceMatrix to: core-metrics-results/weighted_unifrac_distance_matrix.qza\u001b[0m\n",
      "\u001b[32mSaved DistanceMatrix to: core-metrics-results/jaccard_distance_matrix.qza\u001b[0m\n",
      "\u001b[32mSaved DistanceMatrix to: core-metrics-results/bray_curtis_distance_matrix.qza\u001b[0m\n",
      "\u001b[32mSaved PCoAResults to: core-metrics-results/unweighted_unifrac_pcoa_results.qza\u001b[0m\n",
      "\u001b[32mSaved PCoAResults to: core-metrics-results/weighted_unifrac_pcoa_results.qza\u001b[0m\n",
      "\u001b[32mSaved PCoAResults to: core-metrics-results/jaccard_pcoa_results.qza\u001b[0m\n",
      "\u001b[32mSaved PCoAResults to: core-metrics-results/bray_curtis_pcoa_results.qza\u001b[0m\n",
      "\u001b[32mSaved Visualization to: core-metrics-results/unweighted_unifrac_emperor.qzv\u001b[0m\n",
      "\u001b[32mSaved Visualization to: core-metrics-results/weighted_unifrac_emperor.qzv\u001b[0m\n",
      "\u001b[32mSaved Visualization to: core-metrics-results/jaccard_emperor.qzv\u001b[0m\n",
      "\u001b[32mSaved Visualization to: core-metrics-results/bray_curtis_emperor.qzv\u001b[0m\n"
     ]
    }
   ],
   "source": [
    "#Rarefied biom at 3200 reads per sample\n",
    "qiime diversity core-metrics-phylogenetic \\\n",
    "    --i-phylogeny Data/rooted-tree.qza \\\n",
    "    --i-table Data/Decontam.qza \\\n",
    "    --p-sampling-depth 3200 \\\n",
    "    --m-metadata-file Data/metadata.csv \\\n",
    "    --output-dir Data/core-metrics-results\n",
    "\n",
    "#DEICODE rpca and biplot\n",
    "!qiime deicode rpca \\\n",
    "    --i-table Data/Decontam.qza \\\n",
    "    --p-min-feature-count 10 \\\n",
    "    --p-min-sample-count 500 \\\n",
    "    --o-biplot Data/deicode/ordination.qza \\\n",
    "    --o-distance-matrix Data/deicode/distance.qza\n",
    "\n",
    "!qiime emperor biplot \\\n",
    "    --i-biplot Data/deicode/ordination.qza \\\n",
    "    --m-sample-metadata-file Data/metadata.csv \\\n",
    "    --m-feature-metadata-file Data/taxonomy.qza \\\n",
    "    --o-visualization Data/deicode/biplot.qzv \\\n",
    "    --p-number-of-features 8"
   ]
  },
  {
   "cell_type": "markdown",
   "metadata": {},
   "source": [
    "### Taxonomic analysis"
   ]
  },
  {
   "cell_type": "code",
   "execution_count": 21,
   "metadata": {
    "scrolled": true
   },
   "outputs": [
    {
     "name": "stdout",
     "output_type": "stream",
     "text": [
      "--2022-03-23 19:14:00--  https://data.qiime2.org/2021.4/common/gg-13-8-99-515-806-nb-classifier.qza\n",
      "Resolving data.qiime2.org (data.qiime2.org)... 54.200.1.12\n",
      "Connecting to data.qiime2.org (data.qiime2.org)|54.200.1.12|:443... connected.\n",
      "HTTP request sent, awaiting response... 302 FOUND\n",
      "Location: https://s3-us-west-2.amazonaws.com/qiime2-data/2021.4/common/gg-13-8-99-515-806-nb-classifier.qza [following]\n",
      "--2022-03-23 19:14:00--  https://s3-us-west-2.amazonaws.com/qiime2-data/2021.4/common/gg-13-8-99-515-806-nb-classifier.qza\n",
      "Resolving s3-us-west-2.amazonaws.com (s3-us-west-2.amazonaws.com)... 52.218.152.64\n",
      "Connecting to s3-us-west-2.amazonaws.com (s3-us-west-2.amazonaws.com)|52.218.152.64|:443... connected.\n",
      "HTTP request sent, awaiting response... 200 OK\n",
      "Length: 28289645 (27M) [application/x-www-form-urlencoded]\n",
      "Saving to: ‘Data/gg-13-8-99-515-806-nb-classifier.qza’\n",
      "\n",
      "Data/gg-13-8-99-515 100%[===================>]  26.98M  20.3MB/s    in 1.3s    \n",
      "\n",
      "2022-03-23 19:14:01 (20.3 MB/s) - ‘Data/gg-13-8-99-515-806-nb-classifier.qza’ saved [28289645/28289645]\n",
      "\n"
     ]
    }
   ],
   "source": [
    "# download pre-trained classifier classifier for V4 region trained on the Greengenes 13_8 99% OTUs\n",
    "! wget \\\n",
    "  -O Data/\"gg-13-8-99-515-806-nb-classifier.qza\" \\\n",
    "  \"https://data.qiime2.org/2021.4/common/gg-13-8-99-515-806-nb-classifier.qza\""
   ]
  },
  {
   "cell_type": "code",
   "execution_count": 29,
   "metadata": {
    "scrolled": true
   },
   "outputs": [
    {
     "name": "stdout",
     "output_type": "stream",
     "text": [
      "\u001b[32mSaved Visualization to: Data/decontam-taxa-bar-plots.qzv\u001b[0m\r\n",
      "\u001b[0m"
     ]
    }
   ],
   "source": [
    "!qiime feature-classifier classify-sklearn \\\n",
    "    --i-classifier Data/gg-13-8-99-515-806-nb-classifier.qza \\\n",
    "    --i-reads Data/reference-hit.seqs.qza \\\n",
    "    --o-classification Data/taxonomy.qza\n",
    "\n",
    "!qiime metadata tabulate \\\n",
    "    --m-input-file Data/taxonomy.qza \\\n",
    "    --o-visualization Data/taxonomy.qzv\n",
    "\n",
    "#taxonomy barplots\n",
    "!qiime taxa barplot \\\n",
    "    --i-table Data/table.qza \\\n",
    "    --i-taxonomy Data/taxonomy.qza \\\n",
    "    --m-metadata-file Data/metadata.csv \\\n",
    "    --o-visualization Data/taxa-bar-plots.qzv\n",
    "\n",
    "#decontaminated taxonomy bar plots\n",
    "!qiime taxa barplot \\\n",
    "    --i-table Data/decontam.qza \\\n",
    "    --i-taxonomy Data/taxonomy.qza \\\n",
    "    --m-metadata-file Data/metadata.txt \\\n",
    "    --o-visualization Data/decontam-taxa-bar-plots.qzv"
   ]
  },
  {
   "cell_type": "markdown",
   "metadata": {},
   "source": [
    "### Differential abundnace analysis - songbird"
   ]
  },
  {
   "cell_type": "code",
   "execution_count": 1,
   "metadata": {},
   "outputs": [
    {
     "name": "stdout",
     "output_type": "stream",
     "text": [
      "\u001b[32mSaved FeatureData[Differential] to: songbird-differentials.qza\u001b[0m\r\n",
      "\u001b[32mSaved SampleData[SongbirdStats] to: songbird-regression-stats.qza\u001b[0m\r\n",
      "\u001b[32mSaved PCoAResults % Properties('biplot') to: songbird-regression-biplot.qza\u001b[0m\r\n"
     ]
    }
   ],
   "source": [
    "!qiime songbird multinomial \\\n",
    "    --i-table Data/sample-decontam-filtered-table.qza \\\n",
    "    --m-metadata-file Data/metadata.csv \\\n",
    "    --p-formula \"age+sex+race+del8+C(bmicat_bditotalcat, Treatment('HL'))\" \\\n",
    "    --p-epochs 10000 \\\n",
    "    --p-differential-prior 0.1 \\\n",
    "    --p-training-column Testing \\\n",
    "    --p-summary-interval 1 \\\n",
    "    --o-differentials Data/songbird/songbird-differentials.qza \\\n",
    "    --o-regression-stats Data/songbird/songbird-regression-stats.qza \\\n",
    "    --o-regression-biplot Data/songbird/songbird-regression-biplot.qza\n"
   ]
  },
  {
   "cell_type": "code",
   "execution_count": 2,
   "metadata": {},
   "outputs": [
    {
     "name": "stdout",
     "output_type": "stream",
     "text": [
      "\u001b[32mSaved Visualization to: songbird-regression-stats.qzv\u001b[0m\r\n"
     ]
    }
   ],
   "source": [
    "!qiime songbird summarize-single \\\n",
    "    --i-regression-stats Data/songbird/songbird-regression-stats.qza \\\n",
    "    --o-visualization Data/songbird/songbird-regression-stats.qzv"
   ]
  },
  {
   "cell_type": "markdown",
   "metadata": {},
   "source": [
    "### Compare with null model"
   ]
  },
  {
   "cell_type": "code",
   "execution_count": 3,
   "metadata": {},
   "outputs": [
    {
     "name": "stdout",
     "output_type": "stream",
     "text": [
      "\u001b[32mSaved FeatureData[Differential] to: null-diff.qza\u001b[0m\n",
      "\u001b[32mSaved SampleData[SongbirdStats] to: null-stats.qza\u001b[0m\n",
      "\u001b[32mSaved PCoAResults % Properties('biplot') to: null-biplot.qza\u001b[0m\n"
     ]
    }
   ],
   "source": [
    "!qiime songbird multinomial \\\n",
    "    --i-table sample-decontam-filtered-table.qza \\\n",
    "    --m-metadata-file Data/metadata.csv \\\n",
    "    --p-formula \"1\" \\\n",
    "    --p-epochs 10000 \\\n",
    "    --p-differential-prior 0.1 \\\n",
    "    --p-training-column Testing \\\n",
    "    --p-summary-interval 1 \\\n",
    "    --o-differentials Data/songbird/null-diff.qza \\\n",
    "    --o-regression-stats Data/songbird/null-stats.qza \\\n",
    "    --o-regression-biplot Data/songbird/null-biplot.qza"
   ]
  },
  {
   "cell_type": "markdown",
   "metadata": {},
   "source": [
    "### Visualize the first model's regression stats and the null model's\n",
    "### regression stats"
   ]
  },
  {
   "cell_type": "code",
   "execution_count": 4,
   "metadata": {},
   "outputs": [
    {
     "name": "stdout",
     "output_type": "stream",
     "text": [
      "\u001b[32mSaved Visualization to: paired-summary.qzv\u001b[0m\r\n"
     ]
    }
   ],
   "source": [
    "!qiime songbird summarize-paired \\\n",
    "    --i-regression-stats Data/songbird/songbird-regression-stats.qza \\\n",
    "    --i-baseline-stats Data/songbird/null-stats.qza \\\n",
    "    --o-visualization Data/songbird/paired-summary.qzv"
   ]
  },
  {
   "cell_type": "code",
   "execution_count": 5,
   "metadata": {},
   "outputs": [
    {
     "name": "stdout",
     "output_type": "stream",
     "text": [
      "\u001b[32mSaved Visualization to: qurro-plot.qzv\u001b[0m\r\n"
     ]
    }
   ],
   "source": [
    "!qiime qurro differential-plot \\\n",
    "    --i-ranks Data/songbird/songbird-differentials.qza \\\n",
    "    --i-table Data/songbird/sample-decontam-filtered-table.qza \\\n",
    "    --m-sample-metadata-file Data/metadata.csv \\\n",
    "    --m-feature-metadata-file Data/taxonomy.qza \\\n",
    "    --o-visualization Data/songbird/qurro-plot.qzv"
   ]
  },
  {
   "cell_type": "markdown",
   "metadata": {},
   "source": [
    "### Empress plot - interactive analyses of differential microbial features"
   ]
  },
  {
   "cell_type": "code",
   "execution_count": null,
   "metadata": {},
   "outputs": [],
   "source": [
    "!qiime empress community-plot \\\n",
    "    --i-tree Data/rooted-tree.qza \\\n",
    "    --i-feature-table Data/sample-decontam-filtered-table.qza \\\n",
    "    --m-sample-metadata-file Data/metadata.csv \\\n",
    "    --m-feature-metadata-file Data/taxonomy.qza \\\n",
    "    --m-feature-metadata-file Data/empress/feature_importance.qza \\\n",
    "    --o-visualization Data/empress/empress.qzv"
   ]
  },
  {
   "cell_type": "markdown",
   "metadata": {},
   "source": [
    "### Additional analysis - longitudinal analysis\n",
    "### Compositional Tensor Factorization (CTF) for longitudinal measures of microbiome data - collection time of the day"
   ]
  },
  {
   "cell_type": "code",
   "execution_count": null,
   "metadata": {},
   "outputs": [],
   "source": [
    "#Gemelli\n",
    "!qiime gemelli ctf \\\n",
    "    --i-table Data/sample-decontam-filtered-table.qza \\\n",
    "    --m-sample-metadata-file Data/metadata-Hong3.csv \\\n",
    "    --m-feature-metadata-file Data/taxonomy.qza \\\n",
    "    --p-state-column sample_collection_time_hongcode \\\n",
    "    --p-individual-id-column anonymized_name \\\n",
    "    --output-dir Data/ctf-results\n",
    "\n",
    "#biplot\n",
    "qiime emperor biplot \\\n",
    "    --i-biplot Data/ctf-results/subject_biplot.qza \\\n",
    "    --m-sample-metadata-file Data/metadata.csv \\\n",
    "    --m-feature-metadata-file Data/taxonomy.qza \\\n",
    "    --p-number-of-features 100 \\\n",
    "    --o-visualization Data/ctf-results/subject_biplot.qzv\n"
   ]
  },
  {
   "cell_type": "markdown",
   "metadata": {},
   "source": [
    "# Metabolomics analysis\n",
    "### After MS1 feature finding and data processing using MZmine, run feature based mass spectral molecular networking (FBMN) analysis on GNPS \n",
    "### GNPS analysis ID: https://gnps.ucsd.edu/ProteoSAFe/status.jsp?task=f192a0030f694224a0ba8f08223a1323"
   ]
  },
  {
   "cell_type": "code",
   "execution_count": null,
   "metadata": {},
   "outputs": [],
   "source": [
    "#Batch effect correction - remove features that are differentially abundant between the batches from ion intensity file\n",
    "perl -nE 'BEGIN {$/=\"END IONS\\n\"} s/\\n/\\t/g; s/^\\s+//; s/\\s+$//; say'  MetabolomicsData/GNPS.txt > MetabolomicsData/intensities.tab\n",
    "fgrep -v -f MetabolomicsData/feature_ids.csv MetabolomicsData/intensities.tab > MetabolomicsData/filtered_intensities.tab\n",
    "perl -pE 's/\\n/\\n\\n/; s/\\t/\\n/g' MetabolomicsData/filtered_intensities.tab > MetabolomicsData/filtered_intensities.txt\n",
    "\n",
    "#Remove batch specific features from the MS quantification table\n",
    "awk -F ',' 'NR==FNR {id[$1]; next} $1 in id' MetabolomicsData/ids.csv MetabolomicsData/table.csv > MetabolomicsData/quant_table.csv"
   ]
  },
  {
   "cell_type": "code",
   "execution_count": null,
   "metadata": {},
   "outputs": [],
   "source": [
    "#microbe-metabolite interactions through MMvec\n",
    "#use paired samples\n",
    "!qiime mmvec paired-omics \\\n",
    "    --i-microbes MicrobeMetabolite/sample-decontam-filtered-table.qza \\\n",
    "    --i-metabolites MicrobeMetabolite/annotated-metabolites-table.qza \\\n",
    "    --output-dir metabolomics\n",
    "\n",
    "!qiime metadata tabulate \\\n",
    "    --m-input-file MicrobeMetabolite/conditionals.qza \\\n",
    "    --o-visualization MicrobeMetabolite/conditionals-viz.qzv\n",
    "\n",
    "!qiime emperor biplot \\\n",
    "    --i-biplot MicrobeMetabolite/conditional_biplot.qza \\\n",
    "    --m-sample-metadata-file MicrobeMetabolite/metabolite-metadata.tsv \\\n",
    "    --m-feature-metadata-file MicrobeMetabolite/microbe-metadata.tsv \\\n",
    "    --o-visualization MicrobeMetabolite/emperor.qzv"
   ]
  },
  {
   "cell_type": "code",
   "execution_count": null,
   "metadata": {},
   "outputs": [],
   "source": [
    "#Differential analysis through Songbird and Qurro visualization\n",
    "!qiime songbird multinomial \\\n",
    "    --i-table MetabolomicsData/no_blank_qiime2_table.qza \\\n",
    "    --m-metadata-file MetabolomicsData/qiime2_metadata_no_blanks.tsv \\\n",
    "    --p-formula \"ATTRIBUTE_age + ATTRIBUTE_sex + ATTRIBUTE_race + ATTRIBUTE_metabolomicsplatenumber + ATTRIBUTE_del8 + C(ATTRIBUTE_bmicat_bditotalcat, Treatment('HL'))\" \\\n",
    "    --p-epochs 10000 \\\n",
    "    --p-differential-prior 0.1 \\\n",
    "    --p-summary-interval 1 \\\n",
    "    --o-differentials MetabolomicsData/songbird/songbird-differentials-metabolomics.qza \\\n",
    "    --o-regression-stats MetabolomicsData/songbird/songbird-regression-stats-metabolomics.qza \\\n",
    "    --o-regression-biplot MetabolomicsData/songbird/songbird-regression-biplot-metabolomics.qza\n",
    "\n",
    "qiime songbird summarize-single \\\n",
    "    --i-regression-stats MetabolomicsData/songbird/songbird-regression-stats-metabolomics.qza \\\n",
    "    --o-visualization MetabolomicsData/songbird/songbird-regression-stats-metabolomics.qzv\n",
    "\n",
    "qiime qurro differential-plot \\\n",
    "    --i-ranks MetabolomicsData/songbird/songbird-differentials-metabolomics.qza \\\n",
    "    --i-table MetabolomicsData/no_blank_qiime2_table.qza \\\n",
    "    --m-sample-metadata-file MetabolomicsData/qiime2_metadata_no_blanks.tsv \\\n",
    "    --o-visualization MetabolomicsData/songbird/qurro-plot-metabolomics.qzv"
   ]
  },
  {
   "cell_type": "code",
   "execution_count": null,
   "metadata": {},
   "outputs": [],
   "source": []
  }
 ],
 "metadata": {
  "kernelspec": {
   "display_name": "Python 3 (ipykernel)",
   "language": "python",
   "name": "python3"
  },
  "language_info": {
   "codemirror_mode": {
    "name": "ipython",
    "version": 3
   },
   "file_extension": ".py",
   "mimetype": "text/x-python",
   "name": "python",
   "nbconvert_exporter": "python",
   "pygments_lexer": "ipython3",
   "version": "3.8.12"
  }
 },
 "nbformat": 4,
 "nbformat_minor": 2
}
